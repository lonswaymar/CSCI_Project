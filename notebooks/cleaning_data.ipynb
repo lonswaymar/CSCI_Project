{
 "cells": [
  {
   "cell_type": "code",
   "execution_count": 380,
   "id": "efd64595-65e1-48fe-b202-64a8a4ea94cb",
   "metadata": {
    "tags": []
   },
   "outputs": [],
   "source": [
    "import pandas as pd\n",
    "import matplotlib.pyplot as plt\n",
    "import numpy as np\n",
    "\n",
    "from sklearn.model_selection import train_test_split\n",
    "from sklearn.ensemble import RandomForestClassifier\n",
    "from sklearn.metrics import mean_squared_error\n",
    "from sklearn.metrics import accuracy_score\n",
    "import requests as re"
   ]
  },
  {
   "cell_type": "markdown",
   "id": "c65eb3ab-ccd3-49c0-8561-32f2496bff1b",
   "metadata": {},
   "source": [
    "## Getting data through API"
   ]
  },
  {
   "cell_type": "code",
   "execution_count": null,
   "id": "3b5e0824-adb5-4efe-9a16-173ad157d3da",
   "metadata": {
    "tags": []
   },
   "outputs": [],
   "source": [
    "# Original data retrieved here.\n",
    "api = \"https://crashviewer.nhtsa.dot.gov/CrashAPI/FARSData/GetFARSData?dataset=Vehicle&FromYear=2020&&ToYear=2021&State=*&format=json\"\n",
    "res = re.get(api)\n",
    "\n",
    "data = res.json()[\"Results\"][0]\n",
    "\n",
    "# Format as pandas DataFrame and save it to data folder\n",
    "usefulColumns = [\"DEATHS\", \"DR_DRINK\", \"DR_HGT\", \"DR_WGT\", \"HIT_RUNNAME\", \n",
    "                 \"TRAV_SP\", \"HOUR\", \"MOD_YEAR\", \"MODELNAME\", \"VSPD_LIM\", \"VPICBODYCLASSNAME\",\n",
    "                \"NUMOCCS\", \"MAKENAME\"]\n",
    "\n",
    "df = pd.DataFrame({k: [d[k] for d in data] for k in usefulColumns})"
   ]
  },
  {
   "cell_type": "markdown",
   "id": "54f2e392-2ad4-4740-b2ef-a4f63dc27452",
   "metadata": {},
   "source": [
    "## Cleaning Data"
   ]
  },
  {
   "cell_type": "markdown",
   "id": "1b06841c-3e9d-4ef1-af60-b53b7ca9ea14",
   "metadata": {},
   "source": [
    "### Only use the most common vehicles types"
   ]
  },
  {
   "cell_type": "code",
   "execution_count": 369,
   "id": "8aa934a4-02f5-4a9a-81f8-fd8dce6dfc1b",
   "metadata": {
    "tags": []
   },
   "outputs": [
    {
     "name": "stdout",
     "output_type": "stream",
     "text": [
      "Sedan/Saloon                                               32284\n",
      "Sport Utility Vehicle (SUV)/Multi-Purpose Vehicle (MPV)    24825\n",
      "Pickup                                                     19495\n",
      "Motorcycle                                                 12460\n",
      "Coupe                                                       3697\n",
      "Hatchback/Liftback/Notchback                                3313\n",
      "Minivan                                                     2289\n",
      "Name: VPICBODYCLASSNAME, dtype: int64\n"
     ]
    }
   ],
   "source": [
    "# Define the body categories to keep as they are\n",
    "keep_categories = ['Sedan/Saloon', 'Sport Utility Vehicle (SUV)/Multi-Purpose Vehicle (MPV)', \n",
    "                   'Pickup', 'Hatchback/Liftback/Notchback', 'Coupe', 'Minivan'] # removed 'Truck-Tractor'\n",
    "\n",
    "# Function to recategorize the data\n",
    "def recategorize(row):\n",
    "    if row in keep_categories:\n",
    "        # Return entry as is if it is in the keep_categories list\n",
    "        return row\n",
    "    elif 'Motorcycle' in row:\n",
    "        # Combine all motorcycle entries\n",
    "        return 'Motorcycle'\n",
    "    else:\n",
    "        # Else return \"Other\", to be filtered out\n",
    "        return 'Other'\n",
    "\n",
    "# Apply the recategorize function to the body class name\n",
    "df['VPICBODYCLASSNAME'] = df['VPICBODYCLASSNAME'].apply(recategorize)\n",
    "\n",
    "# Finally, filter out all body types that are \"Other\"\n",
    "df = df[df.VPICBODYCLASSNAME != \"Other\"]\n",
    "\n",
    "# Now let's see the new value counts\n",
    "print(df['VPICBODYCLASSNAME'].value_counts())"
   ]
  },
  {
   "cell_type": "code",
   "execution_count": null,
   "id": "bcd6f7ec-f880-4cfd-a2c1-501977fc5f5f",
   "metadata": {
    "tags": []
   },
   "outputs": [],
   "source": []
  },
  {
   "cell_type": "markdown",
   "id": "3d4197c8-8bdd-4bd2-b8e7-caadb2f6c279",
   "metadata": {
    "tags": []
   },
   "source": [
    "### Handle outliers and unknown information"
   ]
  },
  {
   "cell_type": "code",
   "execution_count": 370,
   "id": "72810d79-5b53-4cbc-b2eb-7330315482f3",
   "metadata": {
    "tags": []
   },
   "outputs": [],
   "source": [
    "# Remove speeds beyond 151 MPH\n",
    "df = df[df['TRAV_SP'].astype(int) <= 151]\n",
    "\n",
    "# Include driver weights between 40-700 lbs and \n",
    "# driver heights between 40 and 107 inches\n",
    "df = df[(df[\"DR_WGT\"].astype(int) >= 40) & (df[\"DR_WGT\"].astype(int) <= 700)]\n",
    "df = df[(df[\"DR_HGT\"].astype(int) >= 40) & (df[\"DR_HGT\"].astype(int) <= 107)]\n",
    "\n",
    "# Only include hours between 0 and 23\n",
    "df = df[df[\"HOUR\"].astype(int) < 24]\n",
    "\n",
    "# Remove unknown or undocumented model years\n",
    "df = df[df['MOD_YEAR'].astype(int) < 2021]\n",
    "\n",
    "# Remove unknown make names (companies) and those with less than 100 occurences\n",
    "value_counts = df['MAKENAME'].value_counts()\n",
    "valid_makenames = value_counts[value_counts >= 10].index\n",
    "exclusions = {\"Unknown Make\", \"Other Make\", \"Other Import\", \"Other Domestic Manufacturers\"}\n",
    "valid_makenames = set(valid_makenames) - exclusions\n",
    "df = df[df['MAKENAME'].isin(valid_makenames)]\n"
   ]
  },
  {
   "cell_type": "markdown",
   "id": "cf8c0fd0-f7e6-47c5-be6f-513d8f642ed6",
   "metadata": {},
   "source": [
    "### Map boolean variables to 0 or 1"
   ]
  },
  {
   "cell_type": "code",
   "execution_count": 371,
   "id": "e1b97ec5-d4cd-45e9-a156-a643db60cad4",
   "metadata": {
    "tags": []
   },
   "outputs": [],
   "source": [
    "df[\"HIT_RUNNAME\"] = df[\"HIT_RUNNAME\"].map({\"No\":0, \"Yes\":1})"
   ]
  },
  {
   "cell_type": "markdown",
   "id": "ac808aa6-5d9b-4297-b8e2-6c1de7caa93d",
   "metadata": {},
   "source": [
    "### Chunk model years into 5 year groupings."
   ]
  },
  {
   "cell_type": "code",
   "execution_count": 372,
   "id": "c466f70c-5881-49c2-ac03-c002fd3d9608",
   "metadata": {
    "tags": []
   },
   "outputs": [],
   "source": [
    "df['MOD_YEAR_5YR_CHUNK'] = ((df['MOD_YEAR'].astype(int) + 2) // 5) * 5"
   ]
  },
  {
   "cell_type": "markdown",
   "id": "c8655e91-d20b-40d3-a7f8-038e60612399",
   "metadata": {},
   "source": [
    "### Create a target column called `DEATHOCCURRED` that is a boolean for whether or not anyone died."
   ]
  },
  {
   "cell_type": "code",
   "execution_count": 373,
   "id": "a3bf645e-a451-4bfb-8393-24db4c3cbabf",
   "metadata": {
    "tags": []
   },
   "outputs": [],
   "source": [
    "df['DEATHOCCURRED'] = np.where(df['DEATHS'].astype(int) > 0, 1, 0)"
   ]
  },
  {
   "cell_type": "markdown",
   "id": "088f2a83-ac77-49c5-b6ad-fbb014ed2277",
   "metadata": {},
   "source": [
    "### Data before one hot encoding of two categorical variables: `MAKENAME` and `VPICBODYCLASSNAME`"
   ]
  },
  {
   "cell_type": "code",
   "execution_count": 375,
   "id": "7aed2be5-62de-4a4d-8b7f-3e41653b6373",
   "metadata": {
    "tags": []
   },
   "outputs": [
    {
     "data": {
      "text/html": [
       "<div>\n",
       "<style scoped>\n",
       "    .dataframe tbody tr th:only-of-type {\n",
       "        vertical-align: middle;\n",
       "    }\n",
       "\n",
       "    .dataframe tbody tr th {\n",
       "        vertical-align: top;\n",
       "    }\n",
       "\n",
       "    .dataframe thead th {\n",
       "        text-align: right;\n",
       "    }\n",
       "</style>\n",
       "<table border=\"1\" class=\"dataframe\">\n",
       "  <thead>\n",
       "    <tr style=\"text-align: right;\">\n",
       "      <th></th>\n",
       "      <th>DEATHS</th>\n",
       "      <th>DR_DRINK</th>\n",
       "      <th>DR_HGT</th>\n",
       "      <th>DR_WGT</th>\n",
       "      <th>HIT_RUNNAME</th>\n",
       "      <th>TRAV_SP</th>\n",
       "      <th>HOUR</th>\n",
       "      <th>MOD_YEAR</th>\n",
       "      <th>MODELNAME</th>\n",
       "      <th>VSPD_LIM</th>\n",
       "      <th>VPICBODYCLASSNAME</th>\n",
       "      <th>NUMOCCS</th>\n",
       "      <th>MAKENAME</th>\n",
       "      <th>MOD_YEAR_5YR_CHUNK</th>\n",
       "      <th>DEATHOCCURRED</th>\n",
       "    </tr>\n",
       "  </thead>\n",
       "  <tbody>\n",
       "    <tr>\n",
       "      <th>0</th>\n",
       "      <td>3</td>\n",
       "      <td>1</td>\n",
       "      <td>67</td>\n",
       "      <td>145</td>\n",
       "      <td>0</td>\n",
       "      <td>80</td>\n",
       "      <td>2</td>\n",
       "      <td>1997</td>\n",
       "      <td>ES-250/300/300h/330/ 350</td>\n",
       "      <td>45</td>\n",
       "      <td>Sedan/Saloon</td>\n",
       "      <td>4</td>\n",
       "      <td>Lexus</td>\n",
       "      <td>1995</td>\n",
       "      <td>1</td>\n",
       "    </tr>\n",
       "    <tr>\n",
       "      <th>5</th>\n",
       "      <td>1</td>\n",
       "      <td>0</td>\n",
       "      <td>67</td>\n",
       "      <td>215</td>\n",
       "      <td>0</td>\n",
       "      <td>70</td>\n",
       "      <td>14</td>\n",
       "      <td>1995</td>\n",
       "      <td>Camry</td>\n",
       "      <td>65</td>\n",
       "      <td>Sedan/Saloon</td>\n",
       "      <td>1</td>\n",
       "      <td>Toyota</td>\n",
       "      <td>1995</td>\n",
       "      <td>1</td>\n",
       "    </tr>\n",
       "    <tr>\n",
       "      <th>7</th>\n",
       "      <td>1</td>\n",
       "      <td>0</td>\n",
       "      <td>73</td>\n",
       "      <td>133</td>\n",
       "      <td>0</td>\n",
       "      <td>80</td>\n",
       "      <td>15</td>\n",
       "      <td>2007</td>\n",
       "      <td>Azera  (For 2018 on, code as vehicle model 398)</td>\n",
       "      <td>35</td>\n",
       "      <td>Sedan/Saloon</td>\n",
       "      <td>5</td>\n",
       "      <td>Hyundai</td>\n",
       "      <td>2005</td>\n",
       "      <td>1</td>\n",
       "    </tr>\n",
       "    <tr>\n",
       "      <th>8</th>\n",
       "      <td>1</td>\n",
       "      <td>0</td>\n",
       "      <td>64</td>\n",
       "      <td>115</td>\n",
       "      <td>0</td>\n",
       "      <td>70</td>\n",
       "      <td>0</td>\n",
       "      <td>2013</td>\n",
       "      <td>Suburban/Yukon XL (2004 on; see 431 for 1950- ...</td>\n",
       "      <td>45</td>\n",
       "      <td>Sport Utility Vehicle (SUV)/Multi-Purpose Vehi...</td>\n",
       "      <td>1</td>\n",
       "      <td>GMC</td>\n",
       "      <td>2015</td>\n",
       "      <td>1</td>\n",
       "    </tr>\n",
       "    <tr>\n",
       "      <th>9</th>\n",
       "      <td>1</td>\n",
       "      <td>0</td>\n",
       "      <td>71</td>\n",
       "      <td>185</td>\n",
       "      <td>0</td>\n",
       "      <td>55</td>\n",
       "      <td>16</td>\n",
       "      <td>2005</td>\n",
       "      <td>Mustang/Mustang II</td>\n",
       "      <td>55</td>\n",
       "      <td>Coupe</td>\n",
       "      <td>1</td>\n",
       "      <td>Ford</td>\n",
       "      <td>2005</td>\n",
       "      <td>1</td>\n",
       "    </tr>\n",
       "  </tbody>\n",
       "</table>\n",
       "</div>"
      ],
      "text/plain": [
       "  DEATHS DR_DRINK DR_HGT DR_WGT  HIT_RUNNAME TRAV_SP HOUR MOD_YEAR  \\\n",
       "0      3        1     67    145            0      80    2     1997   \n",
       "5      1        0     67    215            0      70   14     1995   \n",
       "7      1        0     73    133            0      80   15     2007   \n",
       "8      1        0     64    115            0      70    0     2013   \n",
       "9      1        0     71    185            0      55   16     2005   \n",
       "\n",
       "                                           MODELNAME VSPD_LIM  \\\n",
       "0                           ES-250/300/300h/330/ 350       45   \n",
       "5                                              Camry       65   \n",
       "7    Azera  (For 2018 on, code as vehicle model 398)       35   \n",
       "8  Suburban/Yukon XL (2004 on; see 431 for 1950- ...       45   \n",
       "9                                 Mustang/Mustang II       55   \n",
       "\n",
       "                                   VPICBODYCLASSNAME NUMOCCS MAKENAME  \\\n",
       "0                                       Sedan/Saloon       4    Lexus   \n",
       "5                                       Sedan/Saloon       1   Toyota   \n",
       "7                                       Sedan/Saloon       5  Hyundai   \n",
       "8  Sport Utility Vehicle (SUV)/Multi-Purpose Vehi...       1      GMC   \n",
       "9                                              Coupe       1     Ford   \n",
       "\n",
       "   MOD_YEAR_5YR_CHUNK  DEATHOCCURRED  \n",
       "0                1995              1  \n",
       "5                1995              1  \n",
       "7                2005              1  \n",
       "8                2015              1  \n",
       "9                2005              1  "
      ]
     },
     "execution_count": 375,
     "metadata": {},
     "output_type": "execute_result"
    }
   ],
   "source": [
    "df.head()"
   ]
  },
  {
   "cell_type": "code",
   "execution_count": 376,
   "id": "95d1308e-8b24-42bd-b6c9-f6f193355ccd",
   "metadata": {
    "tags": []
   },
   "outputs": [
    {
     "name": "stdout",
     "output_type": "stream",
     "text": [
      "<class 'pandas.core.frame.DataFrame'>\n",
      "RangeIndex: 21855 entries, 0 to 21854\n",
      "Data columns (total 15 columns):\n",
      " #   Column              Non-Null Count  Dtype \n",
      "---  ------              --------------  ----- \n",
      " 0   DEATHS              21855 non-null  object\n",
      " 1   DR_DRINK            21855 non-null  object\n",
      " 2   DR_HGT              21855 non-null  object\n",
      " 3   DR_WGT              21855 non-null  object\n",
      " 4   HIT_RUNNAME         21855 non-null  int64 \n",
      " 5   TRAV_SP             21855 non-null  object\n",
      " 6   HOUR                21855 non-null  object\n",
      " 7   MOD_YEAR            21855 non-null  object\n",
      " 8   MODELNAME           21855 non-null  object\n",
      " 9   VSPD_LIM            21855 non-null  object\n",
      " 10  VPICBODYCLASSNAME   21855 non-null  object\n",
      " 11  NUMOCCS             21855 non-null  object\n",
      " 12  MAKENAME            21855 non-null  object\n",
      " 13  MOD_YEAR_5YR_CHUNK  21855 non-null  int32 \n",
      " 14  DEATHOCCURRED       21855 non-null  int32 \n",
      "dtypes: int32(2), int64(1), object(12)\n",
      "memory usage: 2.3+ MB\n"
     ]
    }
   ],
   "source": [
    "df = df.reset_index(drop = True)\n",
    "df.to_csv(\"../data/data-clean/super-clean-vehicle-2020-2021.csv\")\n",
    "df.info()"
   ]
  },
  {
   "cell_type": "markdown",
   "id": "b53fb5eb-7ded-4227-a76a-6fefcb1a4074",
   "metadata": {},
   "source": [
    "### One-hot encode categorical variables"
   ]
  },
  {
   "cell_type": "code",
   "execution_count": 377,
   "id": "f5003cba-9a6b-4a33-8717-f86c300e038f",
   "metadata": {
    "tags": []
   },
   "outputs": [],
   "source": [
    "categorical_columns = ['MAKENAME', 'VPICBODYCLASSNAME']  \n",
    "df = pd.get_dummies(df, columns=categorical_columns)"
   ]
  },
  {
   "cell_type": "markdown",
   "id": "b51f9a92-2414-4273-8caa-029b8efb2688",
   "metadata": {
    "tags": []
   },
   "source": [
    "## Models"
   ]
  },
  {
   "cell_type": "markdown",
   "id": "180fbc82-81f5-4ceb-911a-48ac1885eef5",
   "metadata": {},
   "source": [
    "### Implement random forest"
   ]
  },
  {
   "cell_type": "code",
   "execution_count": 390,
   "id": "36d82a55-964f-4d9c-98d2-b9b0852b7ddf",
   "metadata": {
    "tags": []
   },
   "outputs": [
    {
     "name": "stdout",
     "output_type": "stream",
     "text": [
      "Accuracy: 72.55%\n",
      "                                              Feature  Importance\n",
      "4                                             TRAV_SP    0.143039\n",
      "2                                              DR_WGT    0.106787\n",
      "5                                                HOUR    0.100868\n",
      "6                                            MOD_YEAR    0.091900\n",
      "1                                              DR_HGT    0.088183\n",
      "7                                            VSPD_LIM    0.072460\n",
      "0                                            DR_DRINK    0.059088\n",
      "57                       VPICBODYCLASSNAME_Motorcycle    0.047204\n",
      "9                                  MOD_YEAR_5YR_CHUNK    0.046486\n",
      "8                                             NUMOCCS    0.034708\n",
      "58                           VPICBODYCLASSNAME_Pickup    0.015614\n",
      "23                           MAKENAME_Harley-Davidson    0.013002\n",
      "16                                 MAKENAME_Chevrolet    0.012284\n",
      "59                     VPICBODYCLASSNAME_Sedan/Saloon    0.012086\n",
      "60  VPICBODYCLASSNAME_Sport Utility Vehicle (SUV)/...    0.011452\n",
      "48                                    MAKENAME_Toyota    0.011238\n",
      "21                                      MAKENAME_Ford    0.011092\n",
      "3                                         HIT_RUNNAME    0.010341\n",
      "24                                     MAKENAME_Honda    0.009095\n",
      "18                                     MAKENAME_Dodge    0.008037\n",
      "39                             MAKENAME_Nissan/Datsun    0.007929\n",
      "22                                       MAKENAME_GMC    0.005122\n",
      "30                                       MAKENAME_KIA    0.005086\n",
      "25                                   MAKENAME_Hyundai    0.005027\n",
      "54                            VPICBODYCLASSNAME_Coupe    0.004977\n"
     ]
    }
   ],
   "source": [
    "# Split data into features and target\n",
    "X = df.drop([\"DEATHS\", \"DEATHOCCURRED\", \"MODELNAME\"], axis=1)\n",
    "y = df['DEATHOCCURRED']\n",
    "\n",
    "# Split the dataset into training and testing sets\n",
    "X_train, X_test, y_train, y_test = train_test_split(X, y, test_size=0.3)\n",
    "\n",
    "# Initialize and fit the Random Forest model\n",
    "rf = RandomForestClassifier()\n",
    "rf.fit(X_train, y_train)\n",
    "\n",
    "# Predict on the test set\n",
    "y_pred = rf.predict(X_test)\n",
    "\n",
    "# Get feature importances\n",
    "feature_importances = rf.feature_importances_\n",
    "feature_names = X.columns\n",
    "\n",
    "# Create a DataFrame of features and their importance\n",
    "feature_importance_df = pd.DataFrame({'Feature': feature_names, 'Importance': feature_importances})\n",
    "feature_importance_df = feature_importance_df.sort_values(by='Importance', ascending=False)\n",
    "\n",
    "# Output MSE and top 10 important features\n",
    "accuracy = accuracy_score(y_test, y_pred)\n",
    "print(f\"Accuracy: {accuracy * 100:.2f}%\")\n",
    "print(feature_importance_df.head(25))"
   ]
  },
  {
   "cell_type": "markdown",
   "id": "bad9e725-3a32-4f12-8110-87742017f19d",
   "metadata": {},
   "source": [
    "### Now only use important features"
   ]
  },
  {
   "cell_type": "code",
   "execution_count": 391,
   "id": "b63ff758-629c-4c6b-aeae-fb84e79e6b0d",
   "metadata": {
    "tags": []
   },
   "outputs": [],
   "source": [
    "importances = rf.feature_importances_\n",
    "feature_names = np.array(X_train.columns)  # Assuming X_train is your feature DataFrame\n",
    "\n",
    "# Create a DataFrame to view feature importances\n",
    "feature_importance_df = pd.DataFrame({\n",
    "    'Feature': feature_names,\n",
    "    'Importance': importances\n",
    "}).sort_values(by='Importance', ascending=False)\n",
    "\n",
    "# Define a threshold for low importance\n",
    "threshold = 0.03\n",
    "\n",
    "# Identify features below the threshold\n",
    "low_importance_features = feature_importance_df[feature_importance_df['Importance'] < threshold]['Feature']\n",
    "\n",
    "# Drop these features from the dataset\n",
    "X_train_reduced = X_train.drop(columns=low_importance_features)\n",
    "X_test_reduced = X_test.drop(columns=low_importance_features)"
   ]
  },
  {
   "cell_type": "code",
   "execution_count": 392,
   "id": "f31d4f2e-7abe-4f6b-8ccc-6cc302998991",
   "metadata": {
    "tags": []
   },
   "outputs": [
    {
     "name": "stdout",
     "output_type": "stream",
     "text": [
      "New Accuracy: 70.35%\n"
     ]
    }
   ],
   "source": [
    "# Create a new Random Forest classifier\n",
    "rf = RandomForestClassifier(n_estimators=100, random_state=42)\n",
    "rf.fit(X_train_reduced, y_train)\n",
    "\n",
    "# Evaluate the new model\n",
    "y_pred_reduced = rf.predict(X_test_reduced)\n",
    "new_accuracy = accuracy_score(y_test, y_pred_reduced)\n",
    "\n",
    "print(f\"New Accuracy: {new_accuracy * 100:.2f}%\")"
   ]
  },
  {
   "cell_type": "code",
   "execution_count": 393,
   "id": "c41f49ea-ac76-408d-80ef-acdea99f59d4",
   "metadata": {
    "tags": []
   },
   "outputs": [
    {
     "data": {
      "image/png": "[encoded data removed]",
      "text/plain": [
       "<Figure size 640x480 with 1 Axes>"
      ]
     },
     "metadata": {},
     "output_type": "display_data"
    }
   ],
   "source": [
    "fig, ax = plt.subplots()\n",
    "\n",
    "mask = (df.TRAV_SP.astype(int) < 200) & (df.VSPD_LIM.astype(int) < 90)\n",
    "ax.scatter(df.VSPD_LIM.astype(int)[mask], \n",
    "           df.TRAV_SP.astype(int)[mask], \n",
    "           c = df.DR_DRINK.astype(int)[mask], alpha = 0.8)\n",
    "ax.set_xlim(ax.get_ylim())\n",
    "\n",
    "ax.set_xlabel(\"Speed Limit\")\n",
    "ax.set_ylabel(\"Travel Speed\")\n",
    "\n",
    "x = np.linspace(0, 110, 1000)\n",
    "ax.plot(x, x, '--')\n",
    "plt.show()"
   ]
  },
  {
   "cell_type": "code",
   "execution_count": 364,
   "id": "b24c01d1-ec5e-4461-93b4-141b4e22cfb6",
   "metadata": {
    "tags": []
   },
   "outputs": [
    {
     "data": {
      "text/html": [
       "<div>\n",
       "<style scoped>\n",
       "    .dataframe tbody tr th:only-of-type {\n",
       "        vertical-align: middle;\n",
       "    }\n",
       "\n",
       "    .dataframe tbody tr th {\n",
       "        vertical-align: top;\n",
       "    }\n",
       "\n",
       "    .dataframe thead th {\n",
       "        text-align: right;\n",
       "    }\n",
       "</style>\n",
       "<table border=\"1\" class=\"dataframe\">\n",
       "  <thead>\n",
       "    <tr style=\"text-align: right;\">\n",
       "      <th></th>\n",
       "      <th>DEATHS</th>\n",
       "      <th>DR_DRINK</th>\n",
       "      <th>DR_HGT</th>\n",
       "      <th>DR_WGT</th>\n",
       "      <th>HIT_RUNNAME</th>\n",
       "      <th>TRAV_SP</th>\n",
       "      <th>HOUR</th>\n",
       "      <th>MOD_YEAR</th>\n",
       "      <th>MODELNAME</th>\n",
       "      <th>VSPD_LIM</th>\n",
       "      <th>...</th>\n",
       "      <th>MAKENAME_Volkswagen</th>\n",
       "      <th>MAKENAME_Volvo</th>\n",
       "      <th>MAKENAME_Yamaha</th>\n",
       "      <th>VPICBODYCLASSNAME_Coupe</th>\n",
       "      <th>VPICBODYCLASSNAME_Hatchback/Liftback/Notchback</th>\n",
       "      <th>VPICBODYCLASSNAME_Minivan</th>\n",
       "      <th>VPICBODYCLASSNAME_Motorcycle</th>\n",
       "      <th>VPICBODYCLASSNAME_Pickup</th>\n",
       "      <th>VPICBODYCLASSNAME_Sedan/Saloon</th>\n",
       "      <th>VPICBODYCLASSNAME_Sport Utility Vehicle (SUV)/Multi-Purpose Vehicle (MPV)</th>\n",
       "    </tr>\n",
       "  </thead>\n",
       "  <tbody>\n",
       "    <tr>\n",
       "      <th>0</th>\n",
       "      <td>3</td>\n",
       "      <td>1</td>\n",
       "      <td>67</td>\n",
       "      <td>145</td>\n",
       "      <td>0</td>\n",
       "      <td>80</td>\n",
       "      <td>2</td>\n",
       "      <td>1997</td>\n",
       "      <td>ES-250/300/300h/330/ 350</td>\n",
       "      <td>45</td>\n",
       "      <td>...</td>\n",
       "      <td>0</td>\n",
       "      <td>0</td>\n",
       "      <td>0</td>\n",
       "      <td>0</td>\n",
       "      <td>0</td>\n",
       "      <td>0</td>\n",
       "      <td>0</td>\n",
       "      <td>0</td>\n",
       "      <td>1</td>\n",
       "      <td>0</td>\n",
       "    </tr>\n",
       "    <tr>\n",
       "      <th>1</th>\n",
       "      <td>1</td>\n",
       "      <td>0</td>\n",
       "      <td>67</td>\n",
       "      <td>215</td>\n",
       "      <td>0</td>\n",
       "      <td>70</td>\n",
       "      <td>14</td>\n",
       "      <td>1995</td>\n",
       "      <td>Camry</td>\n",
       "      <td>65</td>\n",
       "      <td>...</td>\n",
       "      <td>0</td>\n",
       "      <td>0</td>\n",
       "      <td>0</td>\n",
       "      <td>0</td>\n",
       "      <td>0</td>\n",
       "      <td>0</td>\n",
       "      <td>0</td>\n",
       "      <td>0</td>\n",
       "      <td>1</td>\n",
       "      <td>0</td>\n",
       "    </tr>\n",
       "    <tr>\n",
       "      <th>2</th>\n",
       "      <td>1</td>\n",
       "      <td>0</td>\n",
       "      <td>73</td>\n",
       "      <td>133</td>\n",
       "      <td>0</td>\n",
       "      <td>80</td>\n",
       "      <td>15</td>\n",
       "      <td>2007</td>\n",
       "      <td>Azera  (For 2018 on, code as vehicle model 398)</td>\n",
       "      <td>35</td>\n",
       "      <td>...</td>\n",
       "      <td>0</td>\n",
       "      <td>0</td>\n",
       "      <td>0</td>\n",
       "      <td>0</td>\n",
       "      <td>0</td>\n",
       "      <td>0</td>\n",
       "      <td>0</td>\n",
       "      <td>0</td>\n",
       "      <td>1</td>\n",
       "      <td>0</td>\n",
       "    </tr>\n",
       "    <tr>\n",
       "      <th>3</th>\n",
       "      <td>1</td>\n",
       "      <td>0</td>\n",
       "      <td>64</td>\n",
       "      <td>115</td>\n",
       "      <td>0</td>\n",
       "      <td>70</td>\n",
       "      <td>0</td>\n",
       "      <td>2013</td>\n",
       "      <td>Suburban/Yukon XL (2004 on; see 431 for 1950- ...</td>\n",
       "      <td>45</td>\n",
       "      <td>...</td>\n",
       "      <td>0</td>\n",
       "      <td>0</td>\n",
       "      <td>0</td>\n",
       "      <td>0</td>\n",
       "      <td>0</td>\n",
       "      <td>0</td>\n",
       "      <td>0</td>\n",
       "      <td>0</td>\n",
       "      <td>0</td>\n",
       "      <td>1</td>\n",
       "    </tr>\n",
       "    <tr>\n",
       "      <th>4</th>\n",
       "      <td>1</td>\n",
       "      <td>0</td>\n",
       "      <td>71</td>\n",
       "      <td>185</td>\n",
       "      <td>0</td>\n",
       "      <td>55</td>\n",
       "      <td>16</td>\n",
       "      <td>2005</td>\n",
       "      <td>Mustang/Mustang II</td>\n",
       "      <td>55</td>\n",
       "      <td>...</td>\n",
       "      <td>0</td>\n",
       "      <td>0</td>\n",
       "      <td>0</td>\n",
       "      <td>1</td>\n",
       "      <td>0</td>\n",
       "      <td>0</td>\n",
       "      <td>0</td>\n",
       "      <td>0</td>\n",
       "      <td>0</td>\n",
       "      <td>0</td>\n",
       "    </tr>\n",
       "  </tbody>\n",
       "</table>\n",
       "<p>5 rows × 64 columns</p>\n",
       "</div>"
      ],
      "text/plain": [
       "  DEATHS DR_DRINK DR_HGT DR_WGT  HIT_RUNNAME TRAV_SP HOUR MOD_YEAR  \\\n",
       "0      3        1     67    145            0      80    2     1997   \n",
       "1      1        0     67    215            0      70   14     1995   \n",
       "2      1        0     73    133            0      80   15     2007   \n",
       "3      1        0     64    115            0      70    0     2013   \n",
       "4      1        0     71    185            0      55   16     2005   \n",
       "\n",
       "                                           MODELNAME VSPD_LIM  ...  \\\n",
       "0                           ES-250/300/300h/330/ 350       45  ...   \n",
       "1                                              Camry       65  ...   \n",
       "2    Azera  (For 2018 on, code as vehicle model 398)       35  ...   \n",
       "3  Suburban/Yukon XL (2004 on; see 431 for 1950- ...       45  ...   \n",
       "4                                 Mustang/Mustang II       55  ...   \n",
       "\n",
       "  MAKENAME_Volkswagen  MAKENAME_Volvo  MAKENAME_Yamaha  \\\n",
       "0                   0               0                0   \n",
       "1                   0               0                0   \n",
       "2                   0               0                0   \n",
       "3                   0               0                0   \n",
       "4                   0               0                0   \n",
       "\n",
       "   VPICBODYCLASSNAME_Coupe  VPICBODYCLASSNAME_Hatchback/Liftback/Notchback  \\\n",
       "0                        0                                               0   \n",
       "1                        0                                               0   \n",
       "2                        0                                               0   \n",
       "3                        0                                               0   \n",
       "4                        1                                               0   \n",
       "\n",
       "   VPICBODYCLASSNAME_Minivan  VPICBODYCLASSNAME_Motorcycle  \\\n",
       "0                          0                             0   \n",
       "1                          0                             0   \n",
       "2                          0                             0   \n",
       "3                          0                             0   \n",
       "4                          0                             0   \n",
       "\n",
       "   VPICBODYCLASSNAME_Pickup  VPICBODYCLASSNAME_Sedan/Saloon  \\\n",
       "0                         0                               1   \n",
       "1                         0                               1   \n",
       "2                         0                               1   \n",
       "3                         0                               0   \n",
       "4                         0                               0   \n",
       "\n",
       "   VPICBODYCLASSNAME_Sport Utility Vehicle (SUV)/Multi-Purpose Vehicle (MPV)  \n",
       "0                                                  0                          \n",
       "1                                                  0                          \n",
       "2                                                  0                          \n",
       "3                                                  1                          \n",
       "4                                                  0                          \n",
       "\n",
       "[5 rows x 64 columns]"
      ]
     },
     "execution_count": 364,
     "metadata": {},
     "output_type": "execute_result"
    }
   ],
   "source": [
    "df.head()"
   ]
  },
  {
   "cell_type": "code",
   "execution_count": null,
   "id": "10337080-ae1a-4f27-b8da-8f9421212d1e",
   "metadata": {},
   "outputs": [],
   "source": []
  }
 ],
 "metadata": {
  "kernelspec": {
   "display_name": "Python 3 (ipykernel)",
   "language": "python",
   "name": "python3"
  },
  "language_info": {
   "codemirror_mode": {
    "name": "ipython",
    "version": 3
   },
   "file_extension": ".py",
   "mimetype": "text/x-python",
   "name": "python",
   "nbconvert_exporter": "python",
   "pygments_lexer": "ipython3",
   "version": "3.11.3"
  }
 },
 "nbformat": 4,
 "nbformat_minor": 5
}
